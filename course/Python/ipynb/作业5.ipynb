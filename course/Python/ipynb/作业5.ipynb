{
 "cells": [
  {
   "cell_type": "markdown",
   "id": "4e46b159",
   "metadata": {},
   "source": [
    "# Python第5次作业\n",
    "\n",
    "继续使用“数据12.1”，以总店数、年末从业人数、年末餐饮营业面积、统一配送商品购进额4个变量，即V2、V4、V5、V9，对所有样本观测值开展划分聚类分析和层次聚类分析。\n",
    "\n",
    "1. 载入分析所需要的库和模块\n",
    "2. 变量设置及数据处理\n",
    "3. 特征变量相关性分析\n",
    "4. 使用K均值聚类分析方法对样本示例进行聚类(K=2)\n",
    "5. 使用K均值聚类分析方法对样本示例进行聚类(K=3)\n",
    "6. 使用K均值聚类分析方法对样本示例进行聚类(K=4)\n"
   ]
  },
  {
   "cell_type": "markdown",
   "id": "0958dfea",
   "metadata": {},
   "source": [
    "## 1. 载入分析所需要的库和模块"
   ]
  },
  {
   "cell_type": "code",
   "execution_count": 1,
   "id": "d7466f5c",
   "metadata": {},
   "outputs": [],
   "source": [
    "import numpy as np\n",
    "import pandas as pd\n",
    "import seaborn as sns\n",
    "import matplotlib.pyplot as plt\n",
    "from sklearn.cluster import KMeans\n",
    "from sklearn.preprocessing import StandardScaler"
   ]
  },
  {
   "cell_type": "markdown",
   "id": "14ee3ebb",
   "metadata": {},
   "source": [
    "---\n",
    "\n",
    "## 2. 变量设置及数据处理"
   ]
  },
  {
   "cell_type": "code",
   "execution_count": 2,
   "id": "8c9ffc3f",
   "metadata": {},
   "outputs": [
    {
     "name": "stdout",
     "output_type": "stream",
     "text": [
      "<class 'pandas.core.frame.DataFrame'>\n",
      "RangeIndex: 28 entries, 0 to 27\n",
      "Data columns (total 4 columns):\n",
      " #   Column  Non-Null Count  Dtype  \n",
      "---  ------  --------------  -----  \n",
      " 0   V2      28 non-null     int64  \n",
      " 1   V4      28 non-null     float64\n",
      " 2   V5      28 non-null     float64\n",
      " 3   V9      28 non-null     float64\n",
      "dtypes: float64(3), int64(1)\n",
      "memory usage: 1.0 KB\n"
     ]
    }
   ],
   "source": [
    "data = pd.read_csv('../data/数据12.1.csv')\n",
    "X = data.iloc[:, [1,3,4,8]]\n",
    "X.info()"
   ]
  },
  {
   "cell_type": "code",
   "execution_count": 3,
   "id": "9ccb2813",
   "metadata": {},
   "outputs": [
    {
     "data": {
      "text/plain": [
       "4"
      ]
     },
     "execution_count": 3,
     "metadata": {},
     "output_type": "execute_result"
    }
   ],
   "source": [
    "len(X.columns)"
   ]
  },
  {
   "cell_type": "code",
   "execution_count": 4,
   "id": "e4cd0f6d",
   "metadata": {},
   "outputs": [
    {
     "data": {
      "text/plain": [
       "Index(['V2', 'V4', 'V5', 'V9'], dtype='object')"
      ]
     },
     "execution_count": 4,
     "metadata": {},
     "output_type": "execute_result"
    }
   ],
   "source": [
    "X.columns"
   ]
  },
  {
   "cell_type": "code",
   "execution_count": 5,
   "id": "137fdafd",
   "metadata": {},
   "outputs": [
    {
     "data": {
      "text/plain": [
       "(28, 4)"
      ]
     },
     "execution_count": 5,
     "metadata": {},
     "output_type": "execute_result"
    }
   ],
   "source": [
    "X.shape"
   ]
  },
  {
   "cell_type": "code",
   "execution_count": 6,
   "id": "6852e433",
   "metadata": {},
   "outputs": [
    {
     "data": {
      "text/plain": [
       "V2      int64\n",
       "V4    float64\n",
       "V5    float64\n",
       "V9    float64\n",
       "dtype: object"
      ]
     },
     "execution_count": 6,
     "metadata": {},
     "output_type": "execute_result"
    }
   ],
   "source": [
    "X.dtypes"
   ]
  },
  {
   "cell_type": "code",
   "execution_count": 7,
   "id": "dabd7498",
   "metadata": {},
   "outputs": [
    {
     "data": {
      "text/plain": [
       "np.False_"
      ]
     },
     "execution_count": 7,
     "metadata": {},
     "output_type": "execute_result"
    }
   ],
   "source": [
    "X.isnull().values.any()"
   ]
  },
  {
   "cell_type": "code",
   "execution_count": 8,
   "id": "83ff87cf",
   "metadata": {},
   "outputs": [
    {
     "data": {
      "text/plain": [
       "V2    0\n",
       "V4    0\n",
       "V5    0\n",
       "V9    0\n",
       "dtype: int64"
      ]
     },
     "execution_count": 8,
     "metadata": {},
     "output_type": "execute_result"
    }
   ],
   "source": [
    "X.isnull().sum()"
   ]
  },
  {
   "cell_type": "code",
   "execution_count": 9,
   "id": "02a49ca7",
   "metadata": {},
   "outputs": [
    {
     "data": {
      "text/html": [
       "<div>\n",
       "<style scoped>\n",
       "    .dataframe tbody tr th:only-of-type {\n",
       "        vertical-align: middle;\n",
       "    }\n",
       "\n",
       "    .dataframe tbody tr th {\n",
       "        vertical-align: top;\n",
       "    }\n",
       "\n",
       "    .dataframe thead th {\n",
       "        text-align: right;\n",
       "    }\n",
       "</style>\n",
       "<table border=\"1\" class=\"dataframe\">\n",
       "  <thead>\n",
       "    <tr style=\"text-align: right;\">\n",
       "      <th></th>\n",
       "      <th>V2</th>\n",
       "      <th>V4</th>\n",
       "      <th>V5</th>\n",
       "      <th>V9</th>\n",
       "    </tr>\n",
       "  </thead>\n",
       "  <tbody>\n",
       "    <tr>\n",
       "      <th>0</th>\n",
       "      <td>95</td>\n",
       "      <td>16.3</td>\n",
       "      <td>240.8</td>\n",
       "      <td>152.28</td>\n",
       "    </tr>\n",
       "    <tr>\n",
       "      <th>1</th>\n",
       "      <td>9</td>\n",
       "      <td>3.5</td>\n",
       "      <td>25.9</td>\n",
       "      <td>5.13</td>\n",
       "    </tr>\n",
       "    <tr>\n",
       "      <th>2</th>\n",
       "      <td>5</td>\n",
       "      <td>0.1</td>\n",
       "      <td>4.1</td>\n",
       "      <td>0.61</td>\n",
       "    </tr>\n",
       "    <tr>\n",
       "      <th>3</th>\n",
       "      <td>4</td>\n",
       "      <td>0.5</td>\n",
       "      <td>4.1</td>\n",
       "      <td>3.63</td>\n",
       "    </tr>\n",
       "    <tr>\n",
       "      <th>4</th>\n",
       "      <td>3</td>\n",
       "      <td>0.3</td>\n",
       "      <td>6.5</td>\n",
       "      <td>0.12</td>\n",
       "    </tr>\n",
       "    <tr>\n",
       "      <th>5</th>\n",
       "      <td>13</td>\n",
       "      <td>1.6</td>\n",
       "      <td>35.6</td>\n",
       "      <td>52.85</td>\n",
       "    </tr>\n",
       "    <tr>\n",
       "      <th>6</th>\n",
       "      <td>4</td>\n",
       "      <td>0.2</td>\n",
       "      <td>2.9</td>\n",
       "      <td>1.20</td>\n",
       "    </tr>\n",
       "    <tr>\n",
       "      <th>7</th>\n",
       "      <td>18</td>\n",
       "      <td>5.6</td>\n",
       "      <td>52.2</td>\n",
       "      <td>23.56</td>\n",
       "    </tr>\n",
       "    <tr>\n",
       "      <th>8</th>\n",
       "      <td>31</td>\n",
       "      <td>4.9</td>\n",
       "      <td>68.3</td>\n",
       "      <td>34.52</td>\n",
       "    </tr>\n",
       "    <tr>\n",
       "      <th>9</th>\n",
       "      <td>8</td>\n",
       "      <td>1.7</td>\n",
       "      <td>19.9</td>\n",
       "      <td>9.77</td>\n",
       "    </tr>\n",
       "  </tbody>\n",
       "</table>\n",
       "</div>"
      ],
      "text/plain": [
       "   V2    V4     V5      V9\n",
       "0  95  16.3  240.8  152.28\n",
       "1   9   3.5   25.9    5.13\n",
       "2   5   0.1    4.1    0.61\n",
       "3   4   0.5    4.1    3.63\n",
       "4   3   0.3    6.5    0.12\n",
       "5  13   1.6   35.6   52.85\n",
       "6   4   0.2    2.9    1.20\n",
       "7  18   5.6   52.2   23.56\n",
       "8  31   4.9   68.3   34.52\n",
       "9   8   1.7   19.9    9.77"
      ]
     },
     "execution_count": 9,
     "metadata": {},
     "output_type": "execute_result"
    }
   ],
   "source": [
    "X.head(10)"
   ]
  },
  {
   "cell_type": "code",
   "execution_count": 10,
   "id": "67f4d463",
   "metadata": {},
   "outputs": [
    {
     "data": {
      "text/html": [
       "<div>\n",
       "<style scoped>\n",
       "    .dataframe tbody tr th:only-of-type {\n",
       "        vertical-align: middle;\n",
       "    }\n",
       "\n",
       "    .dataframe tbody tr th {\n",
       "        vertical-align: top;\n",
       "    }\n",
       "\n",
       "    .dataframe thead th {\n",
       "        text-align: right;\n",
       "    }\n",
       "</style>\n",
       "<table border=\"1\" class=\"dataframe\">\n",
       "  <thead>\n",
       "    <tr style=\"text-align: right;\">\n",
       "      <th></th>\n",
       "      <th>V2</th>\n",
       "      <th>V4</th>\n",
       "      <th>V5</th>\n",
       "      <th>V9</th>\n",
       "    </tr>\n",
       "  </thead>\n",
       "  <tbody>\n",
       "    <tr>\n",
       "      <th>0</th>\n",
       "      <td>3.331341</td>\n",
       "      <td>2.770017</td>\n",
       "      <td>3.405459</td>\n",
       "      <td>3.989002</td>\n",
       "    </tr>\n",
       "    <tr>\n",
       "      <th>1</th>\n",
       "      <td>-0.373910</td>\n",
       "      <td>0.034349</td>\n",
       "      <td>-0.259663</td>\n",
       "      <td>-0.452757</td>\n",
       "    </tr>\n",
       "    <tr>\n",
       "      <th>2</th>\n",
       "      <td>-0.546248</td>\n",
       "      <td>-0.692313</td>\n",
       "      <td>-0.631462</td>\n",
       "      <td>-0.589194</td>\n",
       "    </tr>\n",
       "    <tr>\n",
       "      <th>3</th>\n",
       "      <td>-0.589332</td>\n",
       "      <td>-0.606824</td>\n",
       "      <td>-0.631462</td>\n",
       "      <td>-0.498035</td>\n",
       "    </tr>\n",
       "    <tr>\n",
       "      <th>4</th>\n",
       "      <td>-0.632416</td>\n",
       "      <td>-0.649569</td>\n",
       "      <td>-0.590530</td>\n",
       "      <td>-0.603985</td>\n",
       "    </tr>\n",
       "    <tr>\n",
       "      <th>5</th>\n",
       "      <td>-0.201573</td>\n",
       "      <td>-0.371727</td>\n",
       "      <td>-0.094229</td>\n",
       "      <td>0.987683</td>\n",
       "    </tr>\n",
       "    <tr>\n",
       "      <th>6</th>\n",
       "      <td>-0.589332</td>\n",
       "      <td>-0.670941</td>\n",
       "      <td>-0.651928</td>\n",
       "      <td>-0.571385</td>\n",
       "    </tr>\n",
       "    <tr>\n",
       "      <th>7</th>\n",
       "      <td>0.013849</td>\n",
       "      <td>0.483169</td>\n",
       "      <td>0.188884</td>\n",
       "      <td>0.103557</td>\n",
       "    </tr>\n",
       "    <tr>\n",
       "      <th>8</th>\n",
       "      <td>0.573945</td>\n",
       "      <td>0.333562</td>\n",
       "      <td>0.463470</td>\n",
       "      <td>0.434387</td>\n",
       "    </tr>\n",
       "    <tr>\n",
       "      <th>9</th>\n",
       "      <td>-0.416995</td>\n",
       "      <td>-0.350355</td>\n",
       "      <td>-0.361993</td>\n",
       "      <td>-0.312698</td>\n",
       "    </tr>\n",
       "    <tr>\n",
       "      <th>10</th>\n",
       "      <td>0.229270</td>\n",
       "      <td>-0.072514</td>\n",
       "      <td>-0.269896</td>\n",
       "      <td>-0.255044</td>\n",
       "    </tr>\n",
       "    <tr>\n",
       "      <th>11</th>\n",
       "      <td>-0.589332</td>\n",
       "      <td>-0.628196</td>\n",
       "      <td>-0.597352</td>\n",
       "      <td>-0.399631</td>\n",
       "    </tr>\n",
       "    <tr>\n",
       "      <th>12</th>\n",
       "      <td>-0.029236</td>\n",
       "      <td>-0.243493</td>\n",
       "      <td>0.035389</td>\n",
       "      <td>-0.134303</td>\n",
       "    </tr>\n",
       "    <tr>\n",
       "      <th>13</th>\n",
       "      <td>-0.158489</td>\n",
       "      <td>-0.564079</td>\n",
       "      <td>-0.553009</td>\n",
       "      <td>-0.507091</td>\n",
       "    </tr>\n",
       "    <tr>\n",
       "      <th>14</th>\n",
       "      <td>0.703198</td>\n",
       "      <td>0.012976</td>\n",
       "      <td>0.158185</td>\n",
       "      <td>0.056770</td>\n",
       "    </tr>\n",
       "    <tr>\n",
       "      <th>15</th>\n",
       "      <td>0.013849</td>\n",
       "      <td>0.183955</td>\n",
       "      <td>0.214467</td>\n",
       "      <td>-0.121625</td>\n",
       "    </tr>\n",
       "    <tr>\n",
       "      <th>16</th>\n",
       "      <td>-0.589332</td>\n",
       "      <td>-0.499962</td>\n",
       "      <td>-0.566653</td>\n",
       "      <td>-0.470868</td>\n",
       "    </tr>\n",
       "    <tr>\n",
       "      <th>17</th>\n",
       "      <td>-0.718585</td>\n",
       "      <td>-0.713686</td>\n",
       "      <td>-0.696271</td>\n",
       "      <td>-0.599156</td>\n",
       "    </tr>\n",
       "    <tr>\n",
       "      <th>18</th>\n",
       "      <td>-0.244657</td>\n",
       "      <td>0.162583</td>\n",
       "      <td>0.402072</td>\n",
       "      <td>-0.220029</td>\n",
       "    </tr>\n",
       "    <tr>\n",
       "      <th>19</th>\n",
       "      <td>-0.330826</td>\n",
       "      <td>0.483169</td>\n",
       "      <td>0.224700</td>\n",
       "      <td>-0.214897</td>\n",
       "    </tr>\n",
       "    <tr>\n",
       "      <th>20</th>\n",
       "      <td>-0.675501</td>\n",
       "      <td>-0.713686</td>\n",
       "      <td>-0.672394</td>\n",
       "      <td>-0.600967</td>\n",
       "    </tr>\n",
       "    <tr>\n",
       "      <th>21</th>\n",
       "      <td>-0.546248</td>\n",
       "      <td>-0.564079</td>\n",
       "      <td>-0.605879</td>\n",
       "      <td>-0.522183</td>\n",
       "    </tr>\n",
       "    <tr>\n",
       "      <th>22</th>\n",
       "      <td>-0.718585</td>\n",
       "      <td>-0.713686</td>\n",
       "      <td>-0.699682</td>\n",
       "      <td>-0.603080</td>\n",
       "    </tr>\n",
       "    <tr>\n",
       "      <th>23</th>\n",
       "      <td>-0.330826</td>\n",
       "      <td>-0.371727</td>\n",
       "      <td>-0.430213</td>\n",
       "      <td>-0.296699</td>\n",
       "    </tr>\n",
       "    <tr>\n",
       "      <th>24</th>\n",
       "      <td>-0.632416</td>\n",
       "      <td>-0.649569</td>\n",
       "      <td>-0.665572</td>\n",
       "      <td>-0.551463</td>\n",
       "    </tr>\n",
       "    <tr>\n",
       "      <th>25</th>\n",
       "      <td>-0.546248</td>\n",
       "      <td>-0.649569</td>\n",
       "      <td>-0.633167</td>\n",
       "      <td>-0.525202</td>\n",
       "    </tr>\n",
       "    <tr>\n",
       "      <th>26</th>\n",
       "      <td>1.952643</td>\n",
       "      <td>2.684527</td>\n",
       "      <td>2.279828</td>\n",
       "      <td>1.284706</td>\n",
       "    </tr>\n",
       "    <tr>\n",
       "      <th>27</th>\n",
       "      <td>2.641992</td>\n",
       "      <td>2.577665</td>\n",
       "      <td>2.238896</td>\n",
       "      <td>2.194187</td>\n",
       "    </tr>\n",
       "  </tbody>\n",
       "</table>\n",
       "</div>"
      ],
      "text/plain": [
       "          V2        V4        V5        V9\n",
       "0   3.331341  2.770017  3.405459  3.989002\n",
       "1  -0.373910  0.034349 -0.259663 -0.452757\n",
       "2  -0.546248 -0.692313 -0.631462 -0.589194\n",
       "3  -0.589332 -0.606824 -0.631462 -0.498035\n",
       "4  -0.632416 -0.649569 -0.590530 -0.603985\n",
       "5  -0.201573 -0.371727 -0.094229  0.987683\n",
       "6  -0.589332 -0.670941 -0.651928 -0.571385\n",
       "7   0.013849  0.483169  0.188884  0.103557\n",
       "8   0.573945  0.333562  0.463470  0.434387\n",
       "9  -0.416995 -0.350355 -0.361993 -0.312698\n",
       "10  0.229270 -0.072514 -0.269896 -0.255044\n",
       "11 -0.589332 -0.628196 -0.597352 -0.399631\n",
       "12 -0.029236 -0.243493  0.035389 -0.134303\n",
       "13 -0.158489 -0.564079 -0.553009 -0.507091\n",
       "14  0.703198  0.012976  0.158185  0.056770\n",
       "15  0.013849  0.183955  0.214467 -0.121625\n",
       "16 -0.589332 -0.499962 -0.566653 -0.470868\n",
       "17 -0.718585 -0.713686 -0.696271 -0.599156\n",
       "18 -0.244657  0.162583  0.402072 -0.220029\n",
       "19 -0.330826  0.483169  0.224700 -0.214897\n",
       "20 -0.675501 -0.713686 -0.672394 -0.600967\n",
       "21 -0.546248 -0.564079 -0.605879 -0.522183\n",
       "22 -0.718585 -0.713686 -0.699682 -0.603080\n",
       "23 -0.330826 -0.371727 -0.430213 -0.296699\n",
       "24 -0.632416 -0.649569 -0.665572 -0.551463\n",
       "25 -0.546248 -0.649569 -0.633167 -0.525202\n",
       "26  1.952643  2.684527  2.279828  1.284706\n",
       "27  2.641992  2.577665  2.238896  2.194187"
      ]
     },
     "execution_count": 10,
     "metadata": {},
     "output_type": "execute_result"
    }
   ],
   "source": [
    "scaler = StandardScaler()\n",
    "scaler.fit(X)\n",
    "X_s = scaler.transform(X)\n",
    "X_s = pd.DataFrame(X_s, columns=X.columns)\n",
    "X_s"
   ]
  },
  {
   "cell_type": "markdown",
   "id": "654989b0",
   "metadata": {},
   "source": [
    "---\n",
    "\n",
    "## 3. 特征变量相关性分析"
   ]
  },
  {
   "cell_type": "code",
   "execution_count": 11,
   "id": "3d181272",
   "metadata": {},
   "outputs": [
    {
     "name": "stdout",
     "output_type": "stream",
     "text": [
      "          V2        V4        V5        V9\n",
      "V2  1.000000  0.946057  0.966842  0.938237\n",
      "V4  0.946057  1.000000  0.977966  0.879125\n",
      "V5  0.966842  0.977966  1.000000  0.938684\n",
      "V9  0.938237  0.879125  0.938684  1.000000\n"
     ]
    }
   ],
   "source": [
    "print(X_s.corr(method='pearson'))"
   ]
  },
  {
   "cell_type": "code",
   "execution_count": 12,
   "id": "9a949974",
   "metadata": {},
   "outputs": [
    {
     "data": {
      "text/plain": [
       "<Axes: >"
      ]
     },
     "execution_count": 12,
     "metadata": {},
     "output_type": "execute_result"
    },
    {
     "data": {
      "image/png": "[encoded data removed]",
      "text/plain": [
       "<Figure size 640x480 with 2 Axes>"
      ]
     },
     "metadata": {},
     "output_type": "display_data"
    }
   ],
   "source": [
    "plt.subplot(1,1,1)\n",
    "sns.heatmap(X_s.corr(), annot=True)"
   ]
  },
  {
   "cell_type": "markdown",
   "id": "891a9a93",
   "metadata": {},
   "source": [
    "---\n",
    "\n",
    "## 4. K均值聚类分析\n",
    "\n",
    "### 4.1 对样本示例进行聚类(K=2)"
   ]
  },
  {
   "cell_type": "code",
   "execution_count": 13,
   "id": "8bd77431",
   "metadata": {},
   "outputs": [
    {
     "data": {
      "text/plain": [
       "array([1, 0, 0, 0, 0, 0, 0, 0, 0, 0, 0, 0, 0, 0, 0, 0, 0, 0, 0, 0, 0, 0,\n",
       "       0, 0, 0, 0, 1, 1], dtype=int32)"
      ]
     },
     "execution_count": 13,
     "metadata": {},
     "output_type": "execute_result"
    }
   ],
   "source": [
    "model = KMeans(n_clusters=2, random_state=2)\n",
    "model.fit(X_s)\n",
    "model.labels_"
   ]
  },
  {
   "cell_type": "code",
   "execution_count": 14,
   "id": "2a67f833",
   "metadata": {},
   "outputs": [
    {
     "data": {
      "text/html": [
       "<div>\n",
       "<style scoped>\n",
       "    .dataframe tbody tr th:only-of-type {\n",
       "        vertical-align: middle;\n",
       "    }\n",
       "\n",
       "    .dataframe tbody tr th {\n",
       "        vertical-align: top;\n",
       "    }\n",
       "\n",
       "    .dataframe thead th {\n",
       "        text-align: right;\n",
       "    }\n",
       "</style>\n",
       "<table border=\"1\" class=\"dataframe\">\n",
       "  <thead>\n",
       "    <tr style=\"text-align: right;\">\n",
       "      <th></th>\n",
       "      <th>聚类</th>\n",
       "    </tr>\n",
       "    <tr>\n",
       "      <th>V1</th>\n",
       "      <th></th>\n",
       "    </tr>\n",
       "  </thead>\n",
       "  <tbody>\n",
       "    <tr>\n",
       "      <th>北京</th>\n",
       "      <td>1</td>\n",
       "    </tr>\n",
       "    <tr>\n",
       "      <th>天津</th>\n",
       "      <td>0</td>\n",
       "    </tr>\n",
       "    <tr>\n",
       "      <th>河北</th>\n",
       "      <td>0</td>\n",
       "    </tr>\n",
       "    <tr>\n",
       "      <th>山西</th>\n",
       "      <td>0</td>\n",
       "    </tr>\n",
       "    <tr>\n",
       "      <th>内蒙古</th>\n",
       "      <td>0</td>\n",
       "    </tr>\n",
       "    <tr>\n",
       "      <th>辽宁</th>\n",
       "      <td>0</td>\n",
       "    </tr>\n",
       "    <tr>\n",
       "      <th>黑龙江</th>\n",
       "      <td>0</td>\n",
       "    </tr>\n",
       "    <tr>\n",
       "      <th>江苏</th>\n",
       "      <td>0</td>\n",
       "    </tr>\n",
       "    <tr>\n",
       "      <th>浙江</th>\n",
       "      <td>0</td>\n",
       "    </tr>\n",
       "    <tr>\n",
       "      <th>安徽</th>\n",
       "      <td>0</td>\n",
       "    </tr>\n",
       "    <tr>\n",
       "      <th>福建</th>\n",
       "      <td>0</td>\n",
       "    </tr>\n",
       "    <tr>\n",
       "      <th>江西</th>\n",
       "      <td>0</td>\n",
       "    </tr>\n",
       "    <tr>\n",
       "      <th>山东</th>\n",
       "      <td>0</td>\n",
       "    </tr>\n",
       "    <tr>\n",
       "      <th>河南</th>\n",
       "      <td>0</td>\n",
       "    </tr>\n",
       "    <tr>\n",
       "      <th>湖北</th>\n",
       "      <td>0</td>\n",
       "    </tr>\n",
       "    <tr>\n",
       "      <th>湖南</th>\n",
       "      <td>0</td>\n",
       "    </tr>\n",
       "    <tr>\n",
       "      <th>广西</th>\n",
       "      <td>0</td>\n",
       "    </tr>\n",
       "    <tr>\n",
       "      <th>海南</th>\n",
       "      <td>0</td>\n",
       "    </tr>\n",
       "    <tr>\n",
       "      <th>重庆</th>\n",
       "      <td>0</td>\n",
       "    </tr>\n",
       "    <tr>\n",
       "      <th>四川</th>\n",
       "      <td>0</td>\n",
       "    </tr>\n",
       "    <tr>\n",
       "      <th>贵州</th>\n",
       "      <td>0</td>\n",
       "    </tr>\n",
       "    <tr>\n",
       "      <th>云南</th>\n",
       "      <td>0</td>\n",
       "    </tr>\n",
       "    <tr>\n",
       "      <th>西藏</th>\n",
       "      <td>0</td>\n",
       "    </tr>\n",
       "    <tr>\n",
       "      <th>陕西</th>\n",
       "      <td>0</td>\n",
       "    </tr>\n",
       "    <tr>\n",
       "      <th>甘肃</th>\n",
       "      <td>0</td>\n",
       "    </tr>\n",
       "    <tr>\n",
       "      <th>新疆</th>\n",
       "      <td>0</td>\n",
       "    </tr>\n",
       "    <tr>\n",
       "      <th>上海</th>\n",
       "      <td>1</td>\n",
       "    </tr>\n",
       "    <tr>\n",
       "      <th>广东</th>\n",
       "      <td>1</td>\n",
       "    </tr>\n",
       "  </tbody>\n",
       "</table>\n",
       "</div>"
      ],
      "text/plain": [
       "     聚类\n",
       "V1     \n",
       "北京    1\n",
       "天津    0\n",
       "河北    0\n",
       "山西    0\n",
       "内蒙古   0\n",
       "辽宁    0\n",
       "黑龙江   0\n",
       "江苏    0\n",
       "浙江    0\n",
       "安徽    0\n",
       "福建    0\n",
       "江西    0\n",
       "山东    0\n",
       "河南    0\n",
       "湖北    0\n",
       "湖南    0\n",
       "广西    0\n",
       "海南    0\n",
       "重庆    0\n",
       "四川    0\n",
       "贵州    0\n",
       "云南    0\n",
       "西藏    0\n",
       "陕西    0\n",
       "甘肃    0\n",
       "新疆    0\n",
       "上海    1\n",
       "广东    1"
      ]
     },
     "execution_count": 14,
     "metadata": {},
     "output_type": "execute_result"
    }
   ],
   "source": [
    "pd.DataFrame(model.labels_.T, index=data.V1,columns=['聚类'])"
   ]
  },
  {
   "cell_type": "code",
   "execution_count": 15,
   "id": "49acb650",
   "metadata": {},
   "outputs": [
    {
     "data": {
      "text/plain": [
       "array([[-0.31703902, -0.32128836, -0.31696734, -0.29871581],\n",
       "       [ 2.64199186,  2.67740299,  2.64139452,  2.48929838]])"
      ]
     },
     "execution_count": 15,
     "metadata": {},
     "output_type": "execute_result"
    }
   ],
   "source": [
    "model.cluster_centers_"
   ]
  },
  {
   "cell_type": "code",
   "execution_count": 16,
   "id": "0dc87328",
   "metadata": {},
   "outputs": [
    {
     "data": {
      "text/plain": [
       "20.197477847186683"
      ]
     },
     "execution_count": 16,
     "metadata": {},
     "output_type": "execute_result"
    }
   ],
   "source": [
    "model.inertia_"
   ]
  },
  {
   "cell_type": "markdown",
   "id": "782e9703",
   "metadata": {},
   "source": [
    "### 4.2 对样本示例进行聚类(K=3)"
   ]
  },
  {
   "cell_type": "code",
   "execution_count": 17,
   "id": "45855b93",
   "metadata": {},
   "outputs": [
    {
     "data": {
      "text/plain": [
       "array([1, 0, 2, 2, 2, 0, 2, 0, 0, 2, 0, 2, 0, 2, 0, 0, 2, 2, 0, 0, 2, 2,\n",
       "       2, 2, 2, 2, 1, 1], dtype=int32)"
      ]
     },
     "execution_count": 17,
     "metadata": {},
     "output_type": "execute_result"
    }
   ],
   "source": [
    "model = KMeans(n_clusters=3, random_state=2)\n",
    "model.fit(X_s)\n",
    "model.labels_"
   ]
  },
  {
   "cell_type": "code",
   "execution_count": 18,
   "id": "e44aaa52",
   "metadata": {},
   "outputs": [
    {
     "data": {
      "text/html": [
       "<div>\n",
       "<style scoped>\n",
       "    .dataframe tbody tr th:only-of-type {\n",
       "        vertical-align: middle;\n",
       "    }\n",
       "\n",
       "    .dataframe tbody tr th {\n",
       "        vertical-align: top;\n",
       "    }\n",
       "\n",
       "    .dataframe thead th {\n",
       "        text-align: right;\n",
       "    }\n",
       "</style>\n",
       "<table border=\"1\" class=\"dataframe\">\n",
       "  <thead>\n",
       "    <tr style=\"text-align: right;\">\n",
       "      <th></th>\n",
       "      <th>聚类</th>\n",
       "    </tr>\n",
       "    <tr>\n",
       "      <th>V1</th>\n",
       "      <th></th>\n",
       "    </tr>\n",
       "  </thead>\n",
       "  <tbody>\n",
       "    <tr>\n",
       "      <th>北京</th>\n",
       "      <td>1</td>\n",
       "    </tr>\n",
       "    <tr>\n",
       "      <th>天津</th>\n",
       "      <td>0</td>\n",
       "    </tr>\n",
       "    <tr>\n",
       "      <th>河北</th>\n",
       "      <td>2</td>\n",
       "    </tr>\n",
       "    <tr>\n",
       "      <th>山西</th>\n",
       "      <td>2</td>\n",
       "    </tr>\n",
       "    <tr>\n",
       "      <th>内蒙古</th>\n",
       "      <td>2</td>\n",
       "    </tr>\n",
       "    <tr>\n",
       "      <th>辽宁</th>\n",
       "      <td>0</td>\n",
       "    </tr>\n",
       "    <tr>\n",
       "      <th>黑龙江</th>\n",
       "      <td>2</td>\n",
       "    </tr>\n",
       "    <tr>\n",
       "      <th>江苏</th>\n",
       "      <td>0</td>\n",
       "    </tr>\n",
       "    <tr>\n",
       "      <th>浙江</th>\n",
       "      <td>0</td>\n",
       "    </tr>\n",
       "    <tr>\n",
       "      <th>安徽</th>\n",
       "      <td>2</td>\n",
       "    </tr>\n",
       "    <tr>\n",
       "      <th>福建</th>\n",
       "      <td>0</td>\n",
       "    </tr>\n",
       "    <tr>\n",
       "      <th>江西</th>\n",
       "      <td>2</td>\n",
       "    </tr>\n",
       "    <tr>\n",
       "      <th>山东</th>\n",
       "      <td>0</td>\n",
       "    </tr>\n",
       "    <tr>\n",
       "      <th>河南</th>\n",
       "      <td>2</td>\n",
       "    </tr>\n",
       "    <tr>\n",
       "      <th>湖北</th>\n",
       "      <td>0</td>\n",
       "    </tr>\n",
       "    <tr>\n",
       "      <th>湖南</th>\n",
       "      <td>0</td>\n",
       "    </tr>\n",
       "    <tr>\n",
       "      <th>广西</th>\n",
       "      <td>2</td>\n",
       "    </tr>\n",
       "    <tr>\n",
       "      <th>海南</th>\n",
       "      <td>2</td>\n",
       "    </tr>\n",
       "    <tr>\n",
       "      <th>重庆</th>\n",
       "      <td>0</td>\n",
       "    </tr>\n",
       "    <tr>\n",
       "      <th>四川</th>\n",
       "      <td>0</td>\n",
       "    </tr>\n",
       "    <tr>\n",
       "      <th>贵州</th>\n",
       "      <td>2</td>\n",
       "    </tr>\n",
       "    <tr>\n",
       "      <th>云南</th>\n",
       "      <td>2</td>\n",
       "    </tr>\n",
       "    <tr>\n",
       "      <th>西藏</th>\n",
       "      <td>2</td>\n",
       "    </tr>\n",
       "    <tr>\n",
       "      <th>陕西</th>\n",
       "      <td>2</td>\n",
       "    </tr>\n",
       "    <tr>\n",
       "      <th>甘肃</th>\n",
       "      <td>2</td>\n",
       "    </tr>\n",
       "    <tr>\n",
       "      <th>新疆</th>\n",
       "      <td>2</td>\n",
       "    </tr>\n",
       "    <tr>\n",
       "      <th>上海</th>\n",
       "      <td>1</td>\n",
       "    </tr>\n",
       "    <tr>\n",
       "      <th>广东</th>\n",
       "      <td>1</td>\n",
       "    </tr>\n",
       "  </tbody>\n",
       "</table>\n",
       "</div>"
      ],
      "text/plain": [
       "     聚类\n",
       "V1     \n",
       "北京    1\n",
       "天津    0\n",
       "河北    2\n",
       "山西    2\n",
       "内蒙古   2\n",
       "辽宁    0\n",
       "黑龙江   2\n",
       "江苏    0\n",
       "浙江    0\n",
       "安徽    2\n",
       "福建    0\n",
       "江西    2\n",
       "山东    0\n",
       "河南    2\n",
       "湖北    0\n",
       "湖南    0\n",
       "广西    2\n",
       "海南    2\n",
       "重庆    0\n",
       "四川    0\n",
       "贵州    2\n",
       "云南    2\n",
       "西藏    2\n",
       "陕西    2\n",
       "甘肃    2\n",
       "新疆    2\n",
       "上海    1\n",
       "广东    1"
      ]
     },
     "execution_count": 18,
     "metadata": {},
     "output_type": "execute_result"
    }
   ],
   "source": [
    "pd.DataFrame(model.labels_.T, index=data.V1,columns=['聚类'])"
   ]
  },
  {
   "cell_type": "code",
   "execution_count": 19,
   "id": "6ed26a02",
   "metadata": {},
   "outputs": [
    {
     "data": {
      "text/plain": [
       "array([[ 0.03539069,  0.10060298,  0.10633798,  0.01837419],\n",
       "       [ 2.64199186,  2.67740299,  2.64139452,  2.48929838],\n",
       "       [-0.55199216, -0.60254925, -0.59917089, -0.51010914]])"
      ]
     },
     "execution_count": 19,
     "metadata": {},
     "output_type": "execute_result"
    }
   ],
   "source": [
    "np.set_printoptions(suppress=True)\n",
    "model.cluster_centers_"
   ]
  },
  {
   "cell_type": "code",
   "execution_count": 20,
   "id": "9185fc8c",
   "metadata": {},
   "outputs": [
    {
     "data": {
      "text/plain": [
       "10.498603411717772"
      ]
     },
     "execution_count": 20,
     "metadata": {},
     "output_type": "execute_result"
    }
   ],
   "source": [
    "model.inertia_"
   ]
  },
  {
   "cell_type": "markdown",
   "id": "2d498687",
   "metadata": {},
   "source": [
    "### 4.3 对样本示例进行聚类(K=4)"
   ]
  },
  {
   "cell_type": "code",
   "execution_count": 21,
   "id": "72231b1a",
   "metadata": {},
   "outputs": [
    {
     "data": {
      "text/plain": [
       "array([3, 0, 2, 2, 2, 0, 2, 0, 0, 2, 0, 2, 0, 2, 0, 0, 2, 2, 0, 0, 2, 2,\n",
       "       2, 2, 2, 2, 1, 1], dtype=int32)"
      ]
     },
     "execution_count": 21,
     "metadata": {},
     "output_type": "execute_result"
    }
   ],
   "source": [
    "model = KMeans(n_clusters=4, random_state=3)\n",
    "model.fit(X_s)\n",
    "model.labels_"
   ]
  },
  {
   "cell_type": "code",
   "execution_count": 22,
   "id": "505fb27a",
   "metadata": {},
   "outputs": [
    {
     "data": {
      "text/html": [
       "<div>\n",
       "<style scoped>\n",
       "    .dataframe tbody tr th:only-of-type {\n",
       "        vertical-align: middle;\n",
       "    }\n",
       "\n",
       "    .dataframe tbody tr th {\n",
       "        vertical-align: top;\n",
       "    }\n",
       "\n",
       "    .dataframe thead th {\n",
       "        text-align: right;\n",
       "    }\n",
       "</style>\n",
       "<table border=\"1\" class=\"dataframe\">\n",
       "  <thead>\n",
       "    <tr style=\"text-align: right;\">\n",
       "      <th></th>\n",
       "      <th>聚类</th>\n",
       "    </tr>\n",
       "    <tr>\n",
       "      <th>V1</th>\n",
       "      <th></th>\n",
       "    </tr>\n",
       "  </thead>\n",
       "  <tbody>\n",
       "    <tr>\n",
       "      <th>北京</th>\n",
       "      <td>3</td>\n",
       "    </tr>\n",
       "    <tr>\n",
       "      <th>天津</th>\n",
       "      <td>0</td>\n",
       "    </tr>\n",
       "    <tr>\n",
       "      <th>河北</th>\n",
       "      <td>2</td>\n",
       "    </tr>\n",
       "    <tr>\n",
       "      <th>山西</th>\n",
       "      <td>2</td>\n",
       "    </tr>\n",
       "    <tr>\n",
       "      <th>内蒙古</th>\n",
       "      <td>2</td>\n",
       "    </tr>\n",
       "    <tr>\n",
       "      <th>辽宁</th>\n",
       "      <td>0</td>\n",
       "    </tr>\n",
       "    <tr>\n",
       "      <th>黑龙江</th>\n",
       "      <td>2</td>\n",
       "    </tr>\n",
       "    <tr>\n",
       "      <th>江苏</th>\n",
       "      <td>0</td>\n",
       "    </tr>\n",
       "    <tr>\n",
       "      <th>浙江</th>\n",
       "      <td>0</td>\n",
       "    </tr>\n",
       "    <tr>\n",
       "      <th>安徽</th>\n",
       "      <td>2</td>\n",
       "    </tr>\n",
       "    <tr>\n",
       "      <th>福建</th>\n",
       "      <td>0</td>\n",
       "    </tr>\n",
       "    <tr>\n",
       "      <th>江西</th>\n",
       "      <td>2</td>\n",
       "    </tr>\n",
       "    <tr>\n",
       "      <th>山东</th>\n",
       "      <td>0</td>\n",
       "    </tr>\n",
       "    <tr>\n",
       "      <th>河南</th>\n",
       "      <td>2</td>\n",
       "    </tr>\n",
       "    <tr>\n",
       "      <th>湖北</th>\n",
       "      <td>0</td>\n",
       "    </tr>\n",
       "    <tr>\n",
       "      <th>湖南</th>\n",
       "      <td>0</td>\n",
       "    </tr>\n",
       "    <tr>\n",
       "      <th>广西</th>\n",
       "      <td>2</td>\n",
       "    </tr>\n",
       "    <tr>\n",
       "      <th>海南</th>\n",
       "      <td>2</td>\n",
       "    </tr>\n",
       "    <tr>\n",
       "      <th>重庆</th>\n",
       "      <td>0</td>\n",
       "    </tr>\n",
       "    <tr>\n",
       "      <th>四川</th>\n",
       "      <td>0</td>\n",
       "    </tr>\n",
       "    <tr>\n",
       "      <th>贵州</th>\n",
       "      <td>2</td>\n",
       "    </tr>\n",
       "    <tr>\n",
       "      <th>云南</th>\n",
       "      <td>2</td>\n",
       "    </tr>\n",
       "    <tr>\n",
       "      <th>西藏</th>\n",
       "      <td>2</td>\n",
       "    </tr>\n",
       "    <tr>\n",
       "      <th>陕西</th>\n",
       "      <td>2</td>\n",
       "    </tr>\n",
       "    <tr>\n",
       "      <th>甘肃</th>\n",
       "      <td>2</td>\n",
       "    </tr>\n",
       "    <tr>\n",
       "      <th>新疆</th>\n",
       "      <td>2</td>\n",
       "    </tr>\n",
       "    <tr>\n",
       "      <th>上海</th>\n",
       "      <td>1</td>\n",
       "    </tr>\n",
       "    <tr>\n",
       "      <th>广东</th>\n",
       "      <td>1</td>\n",
       "    </tr>\n",
       "  </tbody>\n",
       "</table>\n",
       "</div>"
      ],
      "text/plain": [
       "     聚类\n",
       "V1     \n",
       "北京    3\n",
       "天津    0\n",
       "河北    2\n",
       "山西    2\n",
       "内蒙古   2\n",
       "辽宁    0\n",
       "黑龙江   2\n",
       "江苏    0\n",
       "浙江    0\n",
       "安徽    2\n",
       "福建    0\n",
       "江西    2\n",
       "山东    0\n",
       "河南    2\n",
       "湖北    0\n",
       "湖南    0\n",
       "广西    2\n",
       "海南    2\n",
       "重庆    0\n",
       "四川    0\n",
       "贵州    2\n",
       "云南    2\n",
       "西藏    2\n",
       "陕西    2\n",
       "甘肃    2\n",
       "新疆    2\n",
       "上海    1\n",
       "广东    1"
      ]
     },
     "execution_count": 22,
     "metadata": {},
     "output_type": "execute_result"
    }
   ],
   "source": [
    "pd.DataFrame(model.labels_.T, index=data.V1,columns=['聚类'])"
   ]
  },
  {
   "cell_type": "code",
   "execution_count": 23,
   "id": "d4ccd1d1",
   "metadata": {},
   "outputs": [
    {
     "data": {
      "text/plain": [
       "array([[ 0.03539069,  0.10060298,  0.10633798,  0.01837419],\n",
       "       [ 2.29731732,  2.6310961 ,  2.25936232,  1.7394465 ],\n",
       "       [-0.55199216, -0.60254925, -0.59917089, -0.51010914],\n",
       "       [ 3.33134093,  2.77001676,  3.40545892,  3.98900215]])"
      ]
     },
     "execution_count": 23,
     "metadata": {},
     "output_type": "execute_result"
    }
   ],
   "source": [
    "model.cluster_centers_"
   ]
  },
  {
   "cell_type": "code",
   "execution_count": 24,
   "id": "f5862a15",
   "metadata": {},
   "outputs": [
    {
     "data": {
      "text/plain": [
       "5.523575558087604"
      ]
     },
     "execution_count": 24,
     "metadata": {},
     "output_type": "execute_result"
    }
   ],
   "source": [
    "model.inertia_"
   ]
  }
 ],
 "metadata": {
  "kernelspec": {
   "display_name": "base",
   "language": "python",
   "name": "python3"
  },
  "language_info": {
   "codemirror_mode": {
    "name": "ipython",
    "version": 3
   },
   "file_extension": ".py",
   "mimetype": "text/x-python",
   "name": "python",
   "nbconvert_exporter": "python",
   "pygments_lexer": "ipython3",
   "version": "3.13.5"
  }
 },
 "nbformat": 4,
 "nbformat_minor": 5
}
